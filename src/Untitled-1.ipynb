{
 "cells": [
  {
   "cell_type": "code",
   "execution_count": 4,
   "metadata": {
    "dotnet_interactive": {
     "language": "csharp"
    },
    "polyglot_notebook": {
     "kernelName": "csharp"
    }
   },
   "outputs": [
    {
     "name": "stdout",
     "output_type": "stream",
     "text": [
      "Signum von 3:\n",
      "1\n",
      "Signum von -2.5:\n",
      "-1\n",
      "Signum von 0:\n",
      "0\n",
      "\n",
      "Ist der Vektor [1, 5, 4] positiv?\n",
      "True\n",
      "Ist der Vektor [0, 5, 0] positiv?\n",
      "False\n",
      "Ist der Vektor [-2, -3, 4] positiv?\n",
      "False\n",
      "\n",
      "Summe der Eintraege von [1, 5, 4]:\n",
      "10\n",
      "Summe der Eintraege von [-4, 6, -2]:\n",
      "0\n"
     ]
    }
   ],
   "source": [
    "\n",
    "def sign(x):\n",
    "    if x > 0:\n",
    "        return 1\n",
    "    elif x < 0:\n",
    "        return -1\n",
    "    else:\n",
    "        return 0\n",
    "\n",
    "def isVectorPositive(v):\n",
    "    isPositive = True\n",
    "    for x in v: # durchlaeuft den Vektor v mit einer for-Schleife, x nimmt nacheinander alle skalaren Werte in v an\n",
    "        if x <= 0:\n",
    "            isPositive = False\n",
    "    return isPositive\n",
    "\n",
    "def sumUp(v):\n",
    "    result = 0\n",
    "    for x in v:\n",
    "        result = result + x\n",
    "    return result\n",
    "\n",
    "\n",
    "# TESTCODE\n",
    "print(\"Signum von 3:\")\n",
    "print(sign(3))\n",
    "print(\"Signum von -2.5:\")\n",
    "print(sign(-2.5))\n",
    "print(\"Signum von 0:\")\n",
    "print(sign(0))\n",
    "print(\"\")\n",
    "print(\"Ist der Vektor [1, 5, 4] positiv?\")\n",
    "print(isVectorPositive([1, 5, 4]))\n",
    "print(\"Ist der Vektor [0, 5, 0] positiv?\")\n",
    "print(isVectorPositive([0, 5, 0]))\n",
    "print(\"Ist der Vektor [-2, -3, 4] positiv?\")\n",
    "print(isVectorPositive([-2, -3, 4]))\n",
    "print(\"\")\n",
    "print(\"Summe der Eintraege von [1, 5, 4]:\")\n",
    "print(sumUp([1, 5, 4]))\n",
    "print(\"Summe der Eintraege von [-4, 6, -2]:\")\n",
    "print(sumUp([-4, 6, -2]))"
   ]
  }
 ],
 "metadata": {
  "kernelspec": {
   "display_name": "Python 3",
   "language": "python",
   "name": "python3"
  },
  "language_info": {
   "codemirror_mode": {
    "name": "ipython",
    "version": 3
   },
   "file_extension": ".py",
   "mimetype": "text/x-python",
   "name": "python",
   "nbconvert_exporter": "python",
   "pygments_lexer": "ipython3",
   "version": "3.12.3"
  },
  "polyglot_notebook": {
   "kernelInfo": {
    "defaultKernelName": "csharp",
    "items": [
     {
      "aliases": [],
      "name": "csharp"
     }
    ]
   }
  }
 },
 "nbformat": 4,
 "nbformat_minor": 2
}
